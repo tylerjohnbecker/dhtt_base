{
 "cells": [
  {
   "cell_type": "code",
   "execution_count": 1,
   "id": "initial_id",
   "metadata": {
    "ExecuteTime": {
     "end_time": "2025-10-08T21:24:14.055839Z",
     "start_time": "2025-10-08T21:24:14.053721Z"
    }
   },
   "outputs": [
    {
     "ename": "ModuleNotFoundError",
     "evalue": "No module named 'rosbag2_py'",
     "output_type": "error",
     "traceback": [
      "\u001b[0;31m---------------------------------------------------------------------------\u001b[0m",
      "\u001b[0;31mModuleNotFoundError\u001b[0m                       Traceback (most recent call last)",
      "Cell \u001b[0;32mIn[1], line 9\u001b[0m\n\u001b[1;32m      6\u001b[0m \u001b[38;5;28;01mimport\u001b[39;00m\u001b[38;5;250m \u001b[39m\u001b[38;5;21;01mdhtt_msgs\u001b[39;00m\u001b[38;5;21;01m.\u001b[39;00m\u001b[38;5;21;01mmsg\u001b[39;00m\n\u001b[1;32m      7\u001b[0m \u001b[38;5;28;01mimport\u001b[39;00m\u001b[38;5;250m \u001b[39m\u001b[38;5;21;01mdhtt_cooking_msgs\u001b[39;00m\u001b[38;5;21;01m.\u001b[39;00m\u001b[38;5;21;01mmsg\u001b[39;00m\n\u001b[0;32m----> 9\u001b[0m \u001b[38;5;28;01mimport\u001b[39;00m\u001b[38;5;250m \u001b[39m\u001b[38;5;21;01mbagToCSV\u001b[39;00m\n",
      "File \u001b[0;32m~/ros2_ws/src/dhtt_base/experiment/bagToCSV.py:9\u001b[0m\n\u001b[1;32m      5\u001b[0m \u001b[38;5;28;01mimport\u001b[39;00m\u001b[38;5;250m \u001b[39m\u001b[38;5;21;01mre\u001b[39;00m\n\u001b[1;32m      7\u001b[0m \u001b[38;5;28;01mimport\u001b[39;00m\u001b[38;5;250m \u001b[39m\u001b[38;5;21;01mpandas\u001b[39;00m\n\u001b[0;32m----> 9\u001b[0m \u001b[38;5;28;01mimport\u001b[39;00m\u001b[38;5;250m \u001b[39m\u001b[38;5;21;01mrosbag2_py\u001b[39;00m\n\u001b[1;32m     10\u001b[0m \u001b[38;5;28;01mfrom\u001b[39;00m\u001b[38;5;250m \u001b[39m\u001b[38;5;21;01mrclpy\u001b[39;00m\u001b[38;5;21;01m.\u001b[39;00m\u001b[38;5;21;01mserialization\u001b[39;00m\u001b[38;5;250m \u001b[39m\u001b[38;5;28;01mimport\u001b[39;00m deserialize_message\n\u001b[1;32m     11\u001b[0m \u001b[38;5;28;01mfrom\u001b[39;00m\u001b[38;5;250m \u001b[39m\u001b[38;5;21;01mrosidl_runtime_py\u001b[39;00m\u001b[38;5;21;01m.\u001b[39;00m\u001b[38;5;21;01mutilities\u001b[39;00m\u001b[38;5;250m \u001b[39m\u001b[38;5;28;01mimport\u001b[39;00m get_message\n",
      "\u001b[0;31mModuleNotFoundError\u001b[0m: No module named 'rosbag2_py'"
     ]
    }
   ],
   "source": [
    "import matplotlib.pyplot as plt\n",
    "\n",
    "import numpy as np\n",
    "import pandas as pd\n",
    "\n",
    "import dhtt_msgs.msg\n",
    "import dhtt_cooking_msgs.msg\n",
    "\n",
    "import bagToCSV"
   ]
  },
  {
   "cell_type": "code",
   "execution_count": null,
   "id": "7536a828c081df29",
   "metadata": {
    "ExecuteTime": {
     "end_time": "2025-10-08T21:24:15.837545Z",
     "start_time": "2025-10-08T21:24:14.062396Z"
    }
   },
   "outputs": [],
   "source": [
    "bag_path: str = '/home/tylerjbecker/Documents/dhtt_experiment_results/and_experiments/and_1/rosbag2_2025_10_08-14_59_06_0.db3'\n",
    "_message_gen = bagToCSV.get_message_generator(bag_path)\n",
    "_foo_generator = bagToCSV.filter_status_by_node_names(_message_gen, {})\n",
    "set_of_nodes: set[str] = set()\n",
    "for msg in _foo_generator:\n",
    "    if 'Make' in msg.node_name:\n",
    "        set_of_nodes.add(msg.node_name)\n",
    "print(set_of_nodes)\n",
    "\n",
    "# see bagToCSV.ReducedNodeMsg\n",
    "_message_gen = bagToCSV.get_message_generator(bag_path)  # reset the stream\n",
    "my_dataset_generator = bagToCSV.filter_status_by_node_names(_message_gen, set_of_nodes)"
   ]
  },
  {
   "cell_type": "markdown",
   "id": "61f37a32e442d25e",
   "metadata": {},
   "source": [
    "## Resource Use Over Time"
   ]
  },
  {
   "cell_type": "code",
   "execution_count": null,
   "id": "ba5c25d309dd6f6d",
   "metadata": {
    "ExecuteTime": {
     "end_time": "2025-10-08T21:24:17.514943Z",
     "start_time": "2025-10-08T21:24:15.888461Z"
    }
   },
   "outputs": [],
   "source": [
    "################ Chatbot special ################\n",
    "data = ((x.id, x.timestamp, x.node_name, x.num_resources) for x in my_dataset_generator)\n",
    "\n",
    "# Convert to DataFrame\n",
    "df = pd.DataFrame(data, columns=[\"id\", \"timestamp\", \"node_name\", \"counter\"])\n",
    "\n",
    "# Sort by timestamp and node\n",
    "df = df.sort_values(by=[\"timestamp\", \"node_name\"])\n",
    "\n",
    "# Pivot the data with forward fill to handle missing values\n",
    "df_pivot = df.pivot_table(index=\"timestamp\", columns=\"node_name\", values=\"counter\", aggfunc=\"last\")\n",
    "df_pivot = df_pivot.ffill().fillna(0)"
   ]
  },
  {
   "cell_type": "code",
   "execution_count": null,
   "id": "c24919bb958bc4f1",
   "metadata": {
    "ExecuteTime": {
     "end_time": "2025-10-08T21:24:17.770152Z",
     "start_time": "2025-10-08T21:24:17.569337Z"
    }
   },
   "outputs": [],
   "source": [
    "# Plot stacked bar chart\n",
    "plt.style.use('tableau-colorblind10')\n",
    "# fig, (ax, ax1) = plt.subplots(2, 1, figsize=(20, 20), sharex=True)\n",
    "fig, ax = plt.subplots(figsize=(10, 6))\n",
    "\n",
    "# looks better when the solid lines go over the dashed line and are thicker\n",
    "df_pivot.sum(axis=1).plot(style='--', label='Total', linewidth=1, color='black')\n",
    "df_pivot.plot(kind=\"line\", stacked=False, ax=ax, linewidth=3)\n",
    "\n",
    "# Set labels and title\n",
    "ax.set_title(\"Resource Usage Over Time by Node\")\n",
    "ax.set_xlabel(\"Timestamp\")\n",
    "ax.set_ylabel(\"Resource Count\")\n",
    "plt.xticks(rotation=45)\n",
    "# plt.tight_layout()\n",
    "plt.savefig(\"foo.png\")\n",
    "plt.show()"
   ]
  },
  {
   "cell_type": "markdown",
   "id": "efad3c7639ee4840",
   "metadata": {},
   "source": [
    "## Time to complete\n",
    "\n",
    "```\n",
    "let start_time = inf\n",
    "let end_time = 0\n",
    "for message in messages:\n",
    "    if message.status != working: skip\n",
    "    if message.timestamp < start_time: start_time = message.timestamp\n",
    "    if message.timestamp > end_time: end_time = message.timestamp\n",
    "\n",
    "```"
   ]
  },
  {
   "cell_type": "code",
   "execution_count": null,
   "id": "a28861295415ec13",
   "metadata": {
    "ExecuteTime": {
     "end_time": "2025-10-08T21:24:17.776071Z",
     "start_time": "2025-10-08T21:24:17.774287Z"
    }
   },
   "outputs": [],
   "source": [
    "# Remember, we are streaming the messages, so need to re-init after using them up above\n",
    "_message_gen = bagToCSV.get_message_generator(bag_path)\n",
    "my_dataset_generator = bagToCSV.filter_status_by_node_names(_message_gen, set_of_nodes)"
   ]
  },
  {
   "cell_type": "code",
   "execution_count": null,
   "id": "741afdca34f54c95",
   "metadata": {
    "ExecuteTime": {
     "end_time": "2025-10-08T21:24:19.517155Z",
     "start_time": "2025-10-08T21:24:17.818763Z"
    }
   },
   "outputs": [],
   "source": [
    "data = ((x.id, x.timestamp, x.node_name, x.node_status) for x in my_dataset_generator)\n",
    "\n",
    "df = pd.DataFrame(data, columns=[\"id\", \"timestamp\", \"node_name\", \"node_status\"])\n",
    "df = df.loc[df['node_status'] == dhtt_msgs.msg.NodeStatus.WORKING]\n",
    "\n",
    "df = df.sort_values(by=[\"timestamp\"])"
   ]
  },
  {
   "cell_type": "code",
   "execution_count": null,
   "id": "2a5945725f7a8980",
   "metadata": {
    "ExecuteTime": {
     "end_time": "2025-10-08T21:24:19.578016Z",
     "start_time": "2025-10-08T21:24:19.575377Z"
    }
   },
   "outputs": [],
   "source": [
    "start_time = df.iloc[0].timestamp\n",
    "end_time = df.iloc[-1].timestamp\n",
    "print(start_time, end_time)\n",
    "\n",
    "time_to_complete = end_time - start_time\n",
    "print(f'Time to complete: {time_to_complete}')"
   ]
  },
  {
   "cell_type": "markdown",
   "id": "fc0f68dc8ecef051",
   "metadata": {},
   "source": [
    "## Burst time\n",
    "```\n",
    "construct map of node names to list of start_stop pairs\n",
    "calculate time delta for each pair\n",
    "average over all\n",
    "```"
   ]
  },
  {
   "cell_type": "code",
   "execution_count": null,
   "id": "7a388f62b71859ba",
   "metadata": {
    "ExecuteTime": {
     "end_time": "2025-10-08T21:24:19.623095Z",
     "start_time": "2025-10-08T21:24:19.621374Z"
    }
   },
   "outputs": [],
   "source": [
    "# Remember, we are streaming the messages, so need to re-init after using them up above\n",
    "_message_gen = bagToCSV.get_message_generator(bag_path)\n",
    "my_dataset_generator = bagToCSV.filter_status_by_node_names(_message_gen, set_of_nodes)"
   ]
  },
  {
   "cell_type": "code",
   "execution_count": null,
   "id": "dcdc8d4ed2933e5a",
   "metadata": {
    "ExecuteTime": {
     "end_time": "2025-10-08T21:24:21.429515Z",
     "start_time": "2025-10-08T21:24:19.665972Z"
    }
   },
   "outputs": [],
   "source": [
    "data = ((x.id, x.timestamp, x.node_name, x.node_status) for x in my_dataset_generator)\n",
    "node_to_timepair: dict[str, list[tuple]] = dict.fromkeys(set_of_nodes, [])\n",
    "\n",
    "df = pd.DataFrame(data, columns=[\"id\", \"timestamp\", \"node_name\", \"node_status\"])\n",
    "df = df.sort_values(by=[\"timestamp\"])"
   ]
  },
  {
   "cell_type": "code",
   "execution_count": null,
   "id": "b5128a1a7cb32359",
   "metadata": {
    "ExecuteTime": {
     "end_time": "2025-10-08T21:24:21.528976Z",
     "start_time": "2025-10-08T21:24:21.474095Z"
    }
   },
   "outputs": [],
   "source": [
    "for _, row in df.iterrows():\n",
    "    entry: list[tuple] = node_to_timepair[row['node_name']]\n",
    "\n",
    "    if row['node_status'] == dhtt_msgs.msg.NodeStatus.WORKING:  # looking to open a timepair\n",
    "        if len(entry) == 0 or (entry[-1][0] is not None and entry[-1][1] is not None):\n",
    "            entry.append((row['timestamp'], None))\n",
    "        else:\n",
    "            continue\n",
    "\n",
    "    if row['node_status'] != dhtt_msgs.msg.NodeStatus.WORKING:  # looking to complete a timepair\n",
    "        if len(entry) == 0:\n",
    "            continue\n",
    "        if entry[-1][0] is not None and entry[-1][1] is None:\n",
    "            entry[-1] = (entry[-1][0], row['timestamp'])\n",
    "        else:\n",
    "            continue"
   ]
  },
  {
   "cell_type": "code",
   "execution_count": null,
   "id": "84d05297fc5bb9d5",
   "metadata": {
    "ExecuteTime": {
     "end_time": "2025-10-08T21:24:21.557321Z",
     "start_time": "2025-10-08T21:24:21.546032Z"
    }
   },
   "outputs": [],
   "source": [
    "all_deltas = [\n",
    "    end - start\n",
    "    for pairs in node_to_timepair.values()\n",
    "    for start, end in pairs if all(pairs)\n",
    "]\n",
    "avg_delta = np.mean(all_deltas)\n",
    "max_delta = np.max(all_deltas)\n",
    "min_delta = np.min(all_deltas)\n",
    "\n",
    "print(f'Avg burst length: {avg_delta}\\nMax: {max_delta}\\nMin: {min_delta}')"
   ]
  },
  {
   "cell_type": "markdown",
   "id": "7579c8b15f4f768a",
   "metadata": {},
   "source": [
    "## Recipe latency (window time)"
   ]
  },
  {
   "cell_type": "code",
   "execution_count": null,
   "id": "ef515204660ba2b7",
   "metadata": {
    "ExecuteTime": {
     "end_time": "2025-10-08T21:24:21.604587Z",
     "start_time": "2025-10-08T21:24:21.602605Z"
    }
   },
   "outputs": [],
   "source": [
    "# Remember, we are streaming the messages, so need to re-init after using them up above\n",
    "_message_gen = bagToCSV.get_message_generator(bag_path)\n",
    "my_dataset_generator = bagToCSV.filter_status_by_node_names(_message_gen, set_of_nodes)"
   ]
  },
  {
   "cell_type": "code",
   "execution_count": null,
   "id": "d161ceeb623cc287",
   "metadata": {
    "ExecuteTime": {
     "end_time": "2025-10-08T21:24:23.362785Z",
     "start_time": "2025-10-08T21:24:21.647951Z"
    }
   },
   "outputs": [],
   "source": [
    "data = ((x.id, x.timestamp, x.node_name, x.node_status) for x in my_dataset_generator)\n",
    "node_to_timepair: dict[str, tuple] = dict.fromkeys(set_of_nodes, (None, None))\n",
    "\n",
    "df = pd.DataFrame(data, columns=[\"id\", \"timestamp\", \"node_name\", \"node_status\"])\n",
    "df = df.sort_values(by=[\"timestamp\"])"
   ]
  },
  {
   "cell_type": "code",
   "execution_count": null,
   "id": "8d6fcceb6ee342db",
   "metadata": {
    "ExecuteTime": {
     "end_time": "2025-10-08T21:24:23.469959Z",
     "start_time": "2025-10-08T21:24:23.417443Z"
    }
   },
   "outputs": [],
   "source": [
    "for _, row in df.iterrows():\n",
    "    time_pair: tuple = node_to_timepair[row['node_name']]\n",
    "    stamp = row['timestamp']\n",
    "\n",
    "    if row['node_status'] == dhtt_msgs.msg.NodeStatus.WORKING:\n",
    "        if time_pair[0] is None or stamp < time_pair[0]:\n",
    "            node_to_timepair[row['node_name']] = (stamp, None)\n",
    "    elif row['node_status'] == dhtt_msgs.msg.NodeStatus.DONE:\n",
    "        # if time_pair[1] is not None: print(time_pair)\n",
    "        if time_pair[1] is None or stamp > time_pair[1]:\n",
    "            node_to_timepair[row['node_name']] = (time_pair[0], stamp)\n",
    "\n",
    "all_deltas = [x[1] - x[0] for x in node_to_timepair.values() if all(x)]\n",
    "avg_delta = np.mean(all_deltas)\n",
    "max_delta = np.max(all_deltas)\n",
    "min_delta = np.min(all_deltas)\n",
    "\n",
    "print(f'Avg recipe latency: {avg_delta}\\nMax: {max_delta}\\nMin: {min_delta}')"
   ]
  },
  {
   "cell_type": "markdown",
   "id": "43b4cc25acfe688",
   "metadata": {},
   "source": [
    "## Number of no-ops"
   ]
  },
  {
   "cell_type": "code",
   "execution_count": null,
   "id": "b8dae3a1eb00dab8",
   "metadata": {
    "ExecuteTime": {
     "end_time": "2025-10-08T21:24:23.474782Z",
     "start_time": "2025-10-08T21:24:23.472923Z"
    }
   },
   "outputs": [],
   "source": [
    "# Remember, we are streaming the messages, so need to re-init after using them up above\n",
    "_message_gen = bagToCSV.get_message_generator(bag_path)\n",
    "data = bagToCSV.filter_messages_by_topic(_message_gen, \"/Cooking_Observations\")"
   ]
  },
  {
   "cell_type": "code",
   "execution_count": null,
   "id": "a2b6296b5592e644",
   "metadata": {
    "ExecuteTime": {
     "end_time": "2025-10-08T21:24:25.197428Z",
     "start_time": "2025-10-08T21:24:23.518934Z"
    }
   },
   "outputs": [],
   "source": [
    "no_counter = 0\n",
    "yes_counter = 0\n",
    "for msg in data:\n",
    "    obs: dhtt_cooking_msgs.msg.CookingObservation = msg[1]\n",
    "\n",
    "    for x in obs.actions:\n",
    "        if x.action_type == dhtt_cooking_msgs.msg.CookingAction.NO_OP:\n",
    "            no_counter += 1\n",
    "        yes_counter += 1\n",
    "\n",
    "print(f'number of no-ops: {no_counter}\\ntotal ops: {yes_counter}')"
   ]
  },
  {
   "cell_type": "markdown",
   "id": "8ca838294bd90fc6",
   "metadata": {},
   "source": [
    "## Number of dynamic changes\n",
    "Count this on the experiment runner"
   ]
  }
 ],
 "metadata": {
  "kernelspec": {
   "display_name": "Python 3 (ipykernel)",
   "language": "python",
   "name": "python3"
  },
  "language_info": {
   "codemirror_mode": {
    "name": "ipython",
    "version": 3
   },
   "file_extension": ".py",
   "mimetype": "text/x-python",
   "name": "python",
   "nbconvert_exporter": "python",
   "pygments_lexer": "ipython3",
   "version": "3.8.10"
  }
 },
 "nbformat": 4,
 "nbformat_minor": 5
}
